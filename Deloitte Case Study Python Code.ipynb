{
 "cells": [
  {
   "cell_type": "code",
   "execution_count": 1,
   "id": "629f5515",
   "metadata": {},
   "outputs": [],
   "source": [
    "import numpy as np\n",
    "import pandas as pd\n",
    "import datetime"
   ]
  },
  {
   "cell_type": "markdown",
   "id": "5a9c45fa",
   "metadata": {},
   "source": [
    "### CPI Excel File"
   ]
  },
  {
   "cell_type": "code",
   "execution_count": 2,
   "id": "23ad3d7d",
   "metadata": {},
   "outputs": [],
   "source": [
    "cpi_monthly = pd.read_excel(\"CPI Data.xlsx\",sheet_name = 'monthly')"
   ]
  },
  {
   "cell_type": "code",
   "execution_count": 3,
   "id": "ba3077af",
   "metadata": {},
   "outputs": [],
   "source": [
    "cpi_annual = pd.read_excel(\"CPI Data.xlsx\",sheet_name = 'annual')"
   ]
  },
  {
   "cell_type": "markdown",
   "id": "dd1f1f1f",
   "metadata": {},
   "source": [
    "### Exchange Rate Excel File"
   ]
  },
  {
   "cell_type": "code",
   "execution_count": 4,
   "id": "ac0a9711",
   "metadata": {},
   "outputs": [],
   "source": [
    "exchange_rate_monthly = pd.read_excel(\"Exchange rate.xlsx\",sheet_name = 'monthly')"
   ]
  },
  {
   "cell_type": "code",
   "execution_count": 5,
   "id": "267e2904",
   "metadata": {},
   "outputs": [],
   "source": [
    "exchange_rate_annual = pd.read_excel(\"Exchange rate.xlsx\",sheet_name = 'annual')"
   ]
  },
  {
   "cell_type": "markdown",
   "id": "61f91d7d",
   "metadata": {},
   "source": [
    "### Exports MerchandiseExcel File"
   ]
  },
  {
   "cell_type": "code",
   "execution_count": 6,
   "id": "4bf7b7b7",
   "metadata": {},
   "outputs": [],
   "source": [
    "exports_monthly = pd.read_excel(\"Exports Merchandise.xlsx\",sheet_name = 'monthly')"
   ]
  },
  {
   "cell_type": "code",
   "execution_count": 7,
   "id": "f86360fc",
   "metadata": {},
   "outputs": [],
   "source": [
    "exports_annual = pd.read_excel(\"Exports Merchandise.xlsx\",sheet_name = 'annual')"
   ]
  },
  {
   "cell_type": "code",
   "execution_count": 8,
   "id": "be726304",
   "metadata": {},
   "outputs": [],
   "source": [
    "exports_quarterly = pd.read_excel(\"Exports Merchandise.xlsx\",sheet_name = 'quarterly')"
   ]
  },
  {
   "cell_type": "markdown",
   "id": "ba24bfca",
   "metadata": {},
   "source": [
    "### Fill the null values with zeros"
   ]
  },
  {
   "cell_type": "code",
   "execution_count": 9,
   "id": "c428856f",
   "metadata": {},
   "outputs": [],
   "source": [
    "cpi_monthly = cpi_monthly.replace(np.nan, 0)"
   ]
  },
  {
   "cell_type": "code",
   "execution_count": 10,
   "id": "702e1834",
   "metadata": {},
   "outputs": [],
   "source": [
    "cpi_annual = cpi_annual.replace(np.nan, 0)"
   ]
  },
  {
   "cell_type": "code",
   "execution_count": 11,
   "id": "bf7d6edb",
   "metadata": {},
   "outputs": [],
   "source": [
    "exchange_rate_monthly = exchange_rate_monthly.replace(np.nan, 0)"
   ]
  },
  {
   "cell_type": "code",
   "execution_count": 12,
   "id": "11726609",
   "metadata": {},
   "outputs": [],
   "source": [
    "exchange_rate_annual = exchange_rate_annual.replace(np.nan, 0)"
   ]
  },
  {
   "cell_type": "code",
   "execution_count": 13,
   "id": "1442eaeb",
   "metadata": {},
   "outputs": [],
   "source": [
    "exports_monthly = exports_monthly.replace(np.nan, 0) "
   ]
  },
  {
   "cell_type": "code",
   "execution_count": 14,
   "id": "110d77f3",
   "metadata": {},
   "outputs": [],
   "source": [
    "exports_annual = exports_annual.replace(np.nan, 0)"
   ]
  },
  {
   "cell_type": "code",
   "execution_count": 15,
   "id": "61e99537",
   "metadata": {},
   "outputs": [],
   "source": [
    "exports_quarterly = exports_quarterly.replace(np.nan, 0)"
   ]
  },
  {
   "cell_type": "markdown",
   "id": "3a503cd9",
   "metadata": {},
   "source": [
    "### Cross checking the null values for all columns "
   ]
  },
  {
   "cell_type": "code",
   "execution_count": 16,
   "id": "fa9a9834",
   "metadata": {},
   "outputs": [
    {
     "data": {
      "text/plain": [
       "False"
      ]
     },
     "execution_count": 16,
     "metadata": {},
     "output_type": "execute_result"
    }
   ],
   "source": [
    "cpi_monthly.isnull().values.any() "
   ]
  },
  {
   "cell_type": "code",
   "execution_count": 17,
   "id": "31bd4e7f",
   "metadata": {},
   "outputs": [
    {
     "data": {
      "text/plain": [
       "False"
      ]
     },
     "execution_count": 17,
     "metadata": {},
     "output_type": "execute_result"
    }
   ],
   "source": [
    "cpi_annual.isnull().values.any() "
   ]
  },
  {
   "cell_type": "code",
   "execution_count": 18,
   "id": "9250dd99",
   "metadata": {},
   "outputs": [
    {
     "data": {
      "text/plain": [
       "False"
      ]
     },
     "execution_count": 18,
     "metadata": {},
     "output_type": "execute_result"
    }
   ],
   "source": [
    "exchange_rate_monthly.isnull().values.any() "
   ]
  },
  {
   "cell_type": "code",
   "execution_count": 19,
   "id": "22309b42",
   "metadata": {},
   "outputs": [
    {
     "data": {
      "text/plain": [
       "False"
      ]
     },
     "execution_count": 19,
     "metadata": {},
     "output_type": "execute_result"
    }
   ],
   "source": [
    "exchange_rate_annual.isnull().values.any()"
   ]
  },
  {
   "cell_type": "code",
   "execution_count": 20,
   "id": "9b9a0fed",
   "metadata": {},
   "outputs": [
    {
     "data": {
      "text/plain": [
       "False"
      ]
     },
     "execution_count": 20,
     "metadata": {},
     "output_type": "execute_result"
    }
   ],
   "source": [
    "exports_monthly.isnull().values.any()"
   ]
  },
  {
   "cell_type": "code",
   "execution_count": 21,
   "id": "427945e2",
   "metadata": {},
   "outputs": [
    {
     "data": {
      "text/plain": [
       "False"
      ]
     },
     "execution_count": 21,
     "metadata": {},
     "output_type": "execute_result"
    }
   ],
   "source": [
    "exports_annual.isnull().values.any()"
   ]
  },
  {
   "cell_type": "code",
   "execution_count": 22,
   "id": "27ade29f",
   "metadata": {},
   "outputs": [
    {
     "data": {
      "text/plain": [
       "False"
      ]
     },
     "execution_count": 22,
     "metadata": {},
     "output_type": "execute_result"
    }
   ],
   "source": [
    "exports_quarterly.isnull().values.any()"
   ]
  },
  {
   "cell_type": "markdown",
   "id": "d3229f31",
   "metadata": {},
   "source": [
    "### Converting unnamed column or other name to \"Year\" for all 3 dataset"
   ]
  },
  {
   "cell_type": "code",
   "execution_count": 23,
   "id": "1332f743",
   "metadata": {},
   "outputs": [],
   "source": [
    "cpi_monthly.rename(columns={'Unnamed: 0':'year'},inplace=True)"
   ]
  },
  {
   "cell_type": "code",
   "execution_count": 24,
   "id": "293dd9be",
   "metadata": {},
   "outputs": [],
   "source": [
    "cpi_annual.rename(columns={'Unnamed: 0':'year'},inplace=True)"
   ]
  },
  {
   "cell_type": "code",
   "execution_count": 25,
   "id": "087d8e51",
   "metadata": {},
   "outputs": [],
   "source": [
    "exchange_rate_monthly.rename(columns={'Period':'year'}, inplace = True)"
   ]
  },
  {
   "cell_type": "code",
   "execution_count": 26,
   "id": "8087207a",
   "metadata": {},
   "outputs": [],
   "source": [
    "exchange_rate_annual.rename(columns={'Period':'year'}, inplace = True)"
   ]
  },
  {
   "cell_type": "code",
   "execution_count": 27,
   "id": "f4a2f5ed",
   "metadata": {},
   "outputs": [],
   "source": [
    "exports_monthly.rename(columns={'Unnamed: 0':'year'},inplace=True)"
   ]
  },
  {
   "cell_type": "code",
   "execution_count": 28,
   "id": "247f2361",
   "metadata": {},
   "outputs": [],
   "source": [
    "exports_annual.rename(columns={'Unnamed: 0':'year'},inplace=True)"
   ]
  },
  {
   "cell_type": "code",
   "execution_count": 29,
   "id": "89ace56b",
   "metadata": {},
   "outputs": [],
   "source": [
    "exports_quarterly.rename(columns={'Unnamed: 0':'year'},inplace=True)"
   ]
  },
  {
   "cell_type": "markdown",
   "id": "602625c8",
   "metadata": {},
   "source": [
    "### Changing the date format of all monthly sheets"
   ]
  },
  {
   "cell_type": "code",
   "execution_count": 30,
   "id": "c8a8eef7",
   "metadata": {},
   "outputs": [],
   "source": [
    "years=[]\n",
    "for i in range(len(cpi_monthly)):\n",
    "    years.append(cpi_monthly['year'][i][0:4])\n",
    "\n",
    "months=[]\n",
    "\n",
    "for i in range(len(cpi_monthly)):\n",
    "    months.append(cpi_monthly['year'][i][5:7])\n",
    "\n",
    "year_month = []\n",
    "\n",
    "for i in range(len(years)):\n",
    "    year_month.append(years[i] + '-' + months[i])\n",
    "    \n",
    "year_month_date = []\n",
    "\n",
    "for i in range(len(year_month)):\n",
    "    year_month_date.append(datetime.datetime.strptime(year_month[i], '%Y-%m').date())\n",
    "\n",
    "cpi_monthly['year'] = year_month_date\n",
    "##print(year_month_date)\n",
    "  "
   ]
  },
  {
   "cell_type": "code",
   "execution_count": 37,
   "id": "c14ac93d",
   "metadata": {},
   "outputs": [
    {
     "data": {
      "text/html": [
       "<div>\n",
       "<style scoped>\n",
       "    .dataframe tbody tr th:only-of-type {\n",
       "        vertical-align: middle;\n",
       "    }\n",
       "\n",
       "    .dataframe tbody tr th {\n",
       "        vertical-align: top;\n",
       "    }\n",
       "\n",
       "    .dataframe thead th {\n",
       "        text-align: right;\n",
       "    }\n",
       "</style>\n",
       "<table border=\"1\" class=\"dataframe\">\n",
       "  <thead>\n",
       "    <tr style=\"text-align: right;\">\n",
       "      <th></th>\n",
       "      <th>year</th>\n",
       "      <th>Afghanistan</th>\n",
       "      <th>Albania</th>\n",
       "      <th>United Arab Emirates</th>\n",
       "      <th>Armenia</th>\n",
       "      <th>Developing Asia</th>\n",
       "      <th>Antigua and Barbuda</th>\n",
       "      <th>Austria</th>\n",
       "      <th>Azerbaijan</th>\n",
       "      <th>Burundi</th>\n",
       "      <th>...</th>\n",
       "      <th>Uruguay</th>\n",
       "      <th>United States</th>\n",
       "      <th>St. Vincent and the Grenadines</th>\n",
       "      <th>Venezuela, RB</th>\n",
       "      <th>Vietnam</th>\n",
       "      <th>World (WBG members)</th>\n",
       "      <th>Samoa</th>\n",
       "      <th>Yemen, Rep.</th>\n",
       "      <th>South Africa</th>\n",
       "      <th>Zambia</th>\n",
       "    </tr>\n",
       "  </thead>\n",
       "  <tbody>\n",
       "    <tr>\n",
       "      <th>0</th>\n",
       "      <td>1988-12-01</td>\n",
       "      <td>0.0</td>\n",
       "      <td>0.0</td>\n",
       "      <td>0.0</td>\n",
       "      <td>0.0</td>\n",
       "      <td>33.23211</td>\n",
       "      <td>0.0</td>\n",
       "      <td>63.07520</td>\n",
       "      <td>0.0</td>\n",
       "      <td>0.0</td>\n",
       "      <td>...</td>\n",
       "      <td>0.720415</td>\n",
       "      <td>55.61017</td>\n",
       "      <td>0.0</td>\n",
       "      <td>0.199333</td>\n",
       "      <td>0.0</td>\n",
       "      <td>48.23800</td>\n",
       "      <td>0.0</td>\n",
       "      <td>0.0</td>\n",
       "      <td>19.62482</td>\n",
       "      <td>0.095229</td>\n",
       "    </tr>\n",
       "    <tr>\n",
       "      <th>1</th>\n",
       "      <td>1989-01-01</td>\n",
       "      <td>0.0</td>\n",
       "      <td>0.0</td>\n",
       "      <td>0.0</td>\n",
       "      <td>0.0</td>\n",
       "      <td>34.38592</td>\n",
       "      <td>0.0</td>\n",
       "      <td>63.63636</td>\n",
       "      <td>0.0</td>\n",
       "      <td>0.0</td>\n",
       "      <td>...</td>\n",
       "      <td>0.752198</td>\n",
       "      <td>55.88706</td>\n",
       "      <td>0.0</td>\n",
       "      <td>0.201556</td>\n",
       "      <td>0.0</td>\n",
       "      <td>48.59190</td>\n",
       "      <td>0.0</td>\n",
       "      <td>0.0</td>\n",
       "      <td>19.91342</td>\n",
       "      <td>0.095229</td>\n",
       "    </tr>\n",
       "    <tr>\n",
       "      <th>2</th>\n",
       "      <td>1989-02-01</td>\n",
       "      <td>0.0</td>\n",
       "      <td>0.0</td>\n",
       "      <td>0.0</td>\n",
       "      <td>0.0</td>\n",
       "      <td>34.60887</td>\n",
       "      <td>0.0</td>\n",
       "      <td>63.74860</td>\n",
       "      <td>0.0</td>\n",
       "      <td>0.0</td>\n",
       "      <td>...</td>\n",
       "      <td>0.794576</td>\n",
       "      <td>56.11781</td>\n",
       "      <td>0.0</td>\n",
       "      <td>0.207910</td>\n",
       "      <td>0.0</td>\n",
       "      <td>48.75023</td>\n",
       "      <td>0.0</td>\n",
       "      <td>0.0</td>\n",
       "      <td>20.20202</td>\n",
       "      <td>0.095229</td>\n",
       "    </tr>\n",
       "    <tr>\n",
       "      <th>3</th>\n",
       "      <td>1989-03-01</td>\n",
       "      <td>0.0</td>\n",
       "      <td>0.0</td>\n",
       "      <td>0.0</td>\n",
       "      <td>0.0</td>\n",
       "      <td>35.11426</td>\n",
       "      <td>0.0</td>\n",
       "      <td>63.86083</td>\n",
       "      <td>0.0</td>\n",
       "      <td>0.0</td>\n",
       "      <td>...</td>\n",
       "      <td>0.858142</td>\n",
       "      <td>56.44086</td>\n",
       "      <td>0.0</td>\n",
       "      <td>0.252126</td>\n",
       "      <td>0.0</td>\n",
       "      <td>49.03835</td>\n",
       "      <td>0.0</td>\n",
       "      <td>0.0</td>\n",
       "      <td>20.49062</td>\n",
       "      <td>0.095229</td>\n",
       "    </tr>\n",
       "    <tr>\n",
       "      <th>4</th>\n",
       "      <td>1989-04-01</td>\n",
       "      <td>0.0</td>\n",
       "      <td>0.0</td>\n",
       "      <td>0.0</td>\n",
       "      <td>0.0</td>\n",
       "      <td>35.52607</td>\n",
       "      <td>0.0</td>\n",
       "      <td>64.08530</td>\n",
       "      <td>0.0</td>\n",
       "      <td>0.0</td>\n",
       "      <td>...</td>\n",
       "      <td>0.900519</td>\n",
       "      <td>56.81005</td>\n",
       "      <td>0.0</td>\n",
       "      <td>0.286180</td>\n",
       "      <td>0.0</td>\n",
       "      <td>49.49379</td>\n",
       "      <td>0.0</td>\n",
       "      <td>0.0</td>\n",
       "      <td>20.77922</td>\n",
       "      <td>0.095229</td>\n",
       "    </tr>\n",
       "  </tbody>\n",
       "</table>\n",
       "<p>5 rows × 173 columns</p>\n",
       "</div>"
      ],
      "text/plain": [
       "         year  Afghanistan  Albania  United Arab Emirates  Armenia  \\\n",
       "0  1988-12-01          0.0      0.0                   0.0      0.0   \n",
       "1  1989-01-01          0.0      0.0                   0.0      0.0   \n",
       "2  1989-02-01          0.0      0.0                   0.0      0.0   \n",
       "3  1989-03-01          0.0      0.0                   0.0      0.0   \n",
       "4  1989-04-01          0.0      0.0                   0.0      0.0   \n",
       "\n",
       "   Developing Asia  Antigua and Barbuda   Austria  Azerbaijan  Burundi  ...  \\\n",
       "0         33.23211                  0.0  63.07520         0.0      0.0  ...   \n",
       "1         34.38592                  0.0  63.63636         0.0      0.0  ...   \n",
       "2         34.60887                  0.0  63.74860         0.0      0.0  ...   \n",
       "3         35.11426                  0.0  63.86083         0.0      0.0  ...   \n",
       "4         35.52607                  0.0  64.08530         0.0      0.0  ...   \n",
       "\n",
       "    Uruguay  United States  St. Vincent and the Grenadines  Venezuela, RB  \\\n",
       "0  0.720415       55.61017                             0.0       0.199333   \n",
       "1  0.752198       55.88706                             0.0       0.201556   \n",
       "2  0.794576       56.11781                             0.0       0.207910   \n",
       "3  0.858142       56.44086                             0.0       0.252126   \n",
       "4  0.900519       56.81005                             0.0       0.286180   \n",
       "\n",
       "   Vietnam  World (WBG members)  Samoa  Yemen, Rep.  South Africa    Zambia  \n",
       "0      0.0             48.23800    0.0          0.0      19.62482  0.095229  \n",
       "1      0.0             48.59190    0.0          0.0      19.91342  0.095229  \n",
       "2      0.0             48.75023    0.0          0.0      20.20202  0.095229  \n",
       "3      0.0             49.03835    0.0          0.0      20.49062  0.095229  \n",
       "4      0.0             49.49379    0.0          0.0      20.77922  0.095229  \n",
       "\n",
       "[5 rows x 173 columns]"
      ]
     },
     "execution_count": 37,
     "metadata": {},
     "output_type": "execute_result"
    }
   ],
   "source": [
    "cpi_monthly.head()"
   ]
  },
  {
   "cell_type": "code",
   "execution_count": 32,
   "id": "c7f5eb72",
   "metadata": {},
   "outputs": [
    {
     "data": {
      "text/plain": [
       "year                     object\n",
       "Afghanistan             float64\n",
       "Albania                 float64\n",
       "United Arab Emirates    float64\n",
       "Armenia                 float64\n",
       "                         ...   \n",
       "World (WBG members)     float64\n",
       "Samoa                   float64\n",
       "Yemen, Rep.             float64\n",
       "South Africa            float64\n",
       "Zambia                  float64\n",
       "Length: 173, dtype: object"
      ]
     },
     "execution_count": 32,
     "metadata": {},
     "output_type": "execute_result"
    }
   ],
   "source": [
    "cpi_monthly.dtypes"
   ]
  },
  {
   "cell_type": "code",
   "execution_count": 34,
   "id": "d0fbb187",
   "metadata": {},
   "outputs": [],
   "source": [
    "years=[]\n",
    "for i in range(len(exports_monthly)):\n",
    "    years.append(exports_monthly['year'][i][0:4])\n",
    "\n",
    "months=[]\n",
    "\n",
    "for i in range(len(exports_monthly)):\n",
    "    months.append(exports_monthly['year'][i][5:7])\n",
    "\n",
    "year_month = []\n",
    "\n",
    "for i in range(len(years)):\n",
    "    year_month.append(years[i] + '-' + months[i])\n",
    "    \n",
    "year_month_date = []\n",
    "\n",
    "for i in range(len(year_month)):\n",
    "    year_month_date.append(datetime.datetime.strptime(year_month[i], '%Y-%m').date())\n",
    "\n",
    "exports_monthly['year'] = year_month_date"
   ]
  },
  {
   "cell_type": "code",
   "execution_count": 36,
   "id": "c15a36a1",
   "metadata": {},
   "outputs": [
    {
     "data": {
      "text/html": [
       "<div>\n",
       "<style scoped>\n",
       "    .dataframe tbody tr th:only-of-type {\n",
       "        vertical-align: middle;\n",
       "    }\n",
       "\n",
       "    .dataframe tbody tr th {\n",
       "        vertical-align: top;\n",
       "    }\n",
       "\n",
       "    .dataframe thead th {\n",
       "        text-align: right;\n",
       "    }\n",
       "</style>\n",
       "<table border=\"1\" class=\"dataframe\">\n",
       "  <thead>\n",
       "    <tr style=\"text-align: right;\">\n",
       "      <th></th>\n",
       "      <th>year</th>\n",
       "      <th>Argentina</th>\n",
       "      <th>Developing Asia</th>\n",
       "      <th>Australia</th>\n",
       "      <th>Belgium</th>\n",
       "      <th>Brazil</th>\n",
       "      <th>Canada</th>\n",
       "      <th>Chile</th>\n",
       "      <th>China</th>\n",
       "      <th>Czech Republic</th>\n",
       "      <th>...</th>\n",
       "      <th>Singapore</th>\n",
       "      <th>Sub-Saharan Africa developing</th>\n",
       "      <th>Slovakia</th>\n",
       "      <th>Sweden</th>\n",
       "      <th>Thailand</th>\n",
       "      <th>Turkey</th>\n",
       "      <th>Taiwan, China</th>\n",
       "      <th>Uganda</th>\n",
       "      <th>United States</th>\n",
       "      <th>World (WBG members)</th>\n",
       "    </tr>\n",
       "  </thead>\n",
       "  <tbody>\n",
       "    <tr>\n",
       "      <th>0</th>\n",
       "      <td>1991-01-01</td>\n",
       "      <td>1265.303</td>\n",
       "      <td>3313.754</td>\n",
       "      <td>5502.346</td>\n",
       "      <td>0.0</td>\n",
       "      <td>4896.404</td>\n",
       "      <td>0.0</td>\n",
       "      <td>0.0</td>\n",
       "      <td>0.0</td>\n",
       "      <td>0.0</td>\n",
       "      <td>...</td>\n",
       "      <td>4014.566</td>\n",
       "      <td>0.0</td>\n",
       "      <td>0.0</td>\n",
       "      <td>5493.817</td>\n",
       "      <td>3313.754</td>\n",
       "      <td>2.651407</td>\n",
       "      <td>5268.258</td>\n",
       "      <td>0.0</td>\n",
       "      <td>41353.47</td>\n",
       "      <td>168083.9</td>\n",
       "    </tr>\n",
       "    <tr>\n",
       "      <th>1</th>\n",
       "      <td>1991-02-01</td>\n",
       "      <td>1518.856</td>\n",
       "      <td>0.000</td>\n",
       "      <td>5708.852</td>\n",
       "      <td>0.0</td>\n",
       "      <td>3887.668</td>\n",
       "      <td>0.0</td>\n",
       "      <td>0.0</td>\n",
       "      <td>0.0</td>\n",
       "      <td>0.0</td>\n",
       "      <td>...</td>\n",
       "      <td>3175.083</td>\n",
       "      <td>0.0</td>\n",
       "      <td>0.0</td>\n",
       "      <td>5402.757</td>\n",
       "      <td>3152.839</td>\n",
       "      <td>2.588754</td>\n",
       "      <td>4161.086</td>\n",
       "      <td>0.0</td>\n",
       "      <td>40909.06</td>\n",
       "      <td>0.0</td>\n",
       "    </tr>\n",
       "    <tr>\n",
       "      <th>2</th>\n",
       "      <td>1991-03-01</td>\n",
       "      <td>1632.372</td>\n",
       "      <td>0.000</td>\n",
       "      <td>6890.402</td>\n",
       "      <td>0.0</td>\n",
       "      <td>4384.693</td>\n",
       "      <td>0.0</td>\n",
       "      <td>0.0</td>\n",
       "      <td>0.0</td>\n",
       "      <td>0.0</td>\n",
       "      <td>...</td>\n",
       "      <td>4062.258</td>\n",
       "      <td>0.0</td>\n",
       "      <td>0.0</td>\n",
       "      <td>5898.220</td>\n",
       "      <td>4010.966</td>\n",
       "      <td>3.935234</td>\n",
       "      <td>4857.343</td>\n",
       "      <td>0.0</td>\n",
       "      <td>46101.14</td>\n",
       "      <td>0.0</td>\n",
       "    </tr>\n",
       "    <tr>\n",
       "      <th>3</th>\n",
       "      <td>1991-04-01</td>\n",
       "      <td>1884.038</td>\n",
       "      <td>0.000</td>\n",
       "      <td>6524.655</td>\n",
       "      <td>0.0</td>\n",
       "      <td>5119.613</td>\n",
       "      <td>0.0</td>\n",
       "      <td>0.0</td>\n",
       "      <td>0.0</td>\n",
       "      <td>0.0</td>\n",
       "      <td>...</td>\n",
       "      <td>3896.417</td>\n",
       "      <td>0.0</td>\n",
       "      <td>0.0</td>\n",
       "      <td>6062.707</td>\n",
       "      <td>3425.034</td>\n",
       "      <td>3.178725</td>\n",
       "      <td>4778.434</td>\n",
       "      <td>0.0</td>\n",
       "      <td>45152.55</td>\n",
       "      <td>0.0</td>\n",
       "    </tr>\n",
       "    <tr>\n",
       "      <th>4</th>\n",
       "      <td>1991-05-01</td>\n",
       "      <td>2302.835</td>\n",
       "      <td>0.000</td>\n",
       "      <td>7145.694</td>\n",
       "      <td>0.0</td>\n",
       "      <td>4917.469</td>\n",
       "      <td>0.0</td>\n",
       "      <td>0.0</td>\n",
       "      <td>0.0</td>\n",
       "      <td>0.0</td>\n",
       "      <td>...</td>\n",
       "      <td>3908.034</td>\n",
       "      <td>0.0</td>\n",
       "      <td>0.0</td>\n",
       "      <td>5544.209</td>\n",
       "      <td>3584.901</td>\n",
       "      <td>3.911652</td>\n",
       "      <td>5758.457</td>\n",
       "      <td>0.0</td>\n",
       "      <td>45104.24</td>\n",
       "      <td>0.0</td>\n",
       "    </tr>\n",
       "  </tbody>\n",
       "</table>\n",
       "<p>5 rows × 55 columns</p>\n",
       "</div>"
      ],
      "text/plain": [
       "         year  Argentina  Developing Asia  Australia  Belgium    Brazil  \\\n",
       "0  1991-01-01   1265.303         3313.754   5502.346      0.0  4896.404   \n",
       "1  1991-02-01   1518.856            0.000   5708.852      0.0  3887.668   \n",
       "2  1991-03-01   1632.372            0.000   6890.402      0.0  4384.693   \n",
       "3  1991-04-01   1884.038            0.000   6524.655      0.0  5119.613   \n",
       "4  1991-05-01   2302.835            0.000   7145.694      0.0  4917.469   \n",
       "\n",
       "   Canada  Chile  China  Czech Republic  ...  Singapore  \\\n",
       "0     0.0    0.0    0.0             0.0  ...   4014.566   \n",
       "1     0.0    0.0    0.0             0.0  ...   3175.083   \n",
       "2     0.0    0.0    0.0             0.0  ...   4062.258   \n",
       "3     0.0    0.0    0.0             0.0  ...   3896.417   \n",
       "4     0.0    0.0    0.0             0.0  ...   3908.034   \n",
       "\n",
       "   Sub-Saharan Africa developing  Slovakia    Sweden  Thailand    Turkey  \\\n",
       "0                            0.0       0.0  5493.817  3313.754  2.651407   \n",
       "1                            0.0       0.0  5402.757  3152.839  2.588754   \n",
       "2                            0.0       0.0  5898.220  4010.966  3.935234   \n",
       "3                            0.0       0.0  6062.707  3425.034  3.178725   \n",
       "4                            0.0       0.0  5544.209  3584.901  3.911652   \n",
       "\n",
       "   Taiwan, China  Uganda  United States  World (WBG members)  \n",
       "0       5268.258     0.0       41353.47             168083.9  \n",
       "1       4161.086     0.0       40909.06                  0.0  \n",
       "2       4857.343     0.0       46101.14                  0.0  \n",
       "3       4778.434     0.0       45152.55                  0.0  \n",
       "4       5758.457     0.0       45104.24                  0.0  \n",
       "\n",
       "[5 rows x 55 columns]"
      ]
     },
     "execution_count": 36,
     "metadata": {},
     "output_type": "execute_result"
    }
   ],
   "source": [
    "exports_monthly.head()"
   ]
  },
  {
   "cell_type": "code",
   "execution_count": 38,
   "id": "2a99c436",
   "metadata": {},
   "outputs": [],
   "source": [
    "years=[]\n",
    "for i in range(len(exchange_rate_monthly)):\n",
    "    years.append(exchange_rate_monthly['year'][i][0:4])\n",
    "\n",
    "months=[]\n",
    "\n",
    "for i in range(len(exchange_rate_monthly)):\n",
    "    months.append(exchange_rate_monthly['year'][i][5:7])\n",
    "\n",
    "year_month = []\n",
    "\n",
    "for i in range(len(years)):\n",
    "    year_month.append(years[i] + '-' + months[i])\n",
    "    \n",
    "year_month_date = []\n",
    "\n",
    "for i in range(len(year_month)):\n",
    "    year_month_date.append(datetime.datetime.strptime(year_month[i], '%Y-%m').date())\n",
    "\n",
    "exchange_rate_monthly['year'] = year_month_date"
   ]
  },
  {
   "cell_type": "code",
   "execution_count": 40,
   "id": "6382f6f2",
   "metadata": {},
   "outputs": [
    {
     "data": {
      "text/html": [
       "<div>\n",
       "<style scoped>\n",
       "    .dataframe tbody tr th:only-of-type {\n",
       "        vertical-align: middle;\n",
       "    }\n",
       "\n",
       "    .dataframe tbody tr th {\n",
       "        vertical-align: top;\n",
       "    }\n",
       "\n",
       "    .dataframe thead th {\n",
       "        text-align: right;\n",
       "    }\n",
       "</style>\n",
       "<table border=\"1\" class=\"dataframe\">\n",
       "  <thead>\n",
       "    <tr style=\"text-align: right;\">\n",
       "      <th></th>\n",
       "      <th>year</th>\n",
       "      <th>Afghanistan</th>\n",
       "      <th>Angola</th>\n",
       "      <th>Albania</th>\n",
       "      <th>United Arab Emirates</th>\n",
       "      <th>Argenti0</th>\n",
       "      <th>Armenia</th>\n",
       "      <th>Developing Asia</th>\n",
       "      <th>Antigua and Barbuda</th>\n",
       "      <th>Australia</th>\n",
       "      <th>...</th>\n",
       "      <th>St. Vincent and the Gre0dines</th>\n",
       "      <th>Venezuela, RB</th>\n",
       "      <th>Viet0m</th>\n",
       "      <th>Vanuatu</th>\n",
       "      <th>World (WBG members)</th>\n",
       "      <th>Samoa</th>\n",
       "      <th>Yemen, Rep.</th>\n",
       "      <th>South Africa</th>\n",
       "      <th>Zambia</th>\n",
       "      <th>Zimbabwe</th>\n",
       "    </tr>\n",
       "  </thead>\n",
       "  <tbody>\n",
       "    <tr>\n",
       "      <th>0</th>\n",
       "      <td>1988-12-01</td>\n",
       "      <td>0.0</td>\n",
       "      <td>0.0</td>\n",
       "      <td>0.0</td>\n",
       "      <td>3.675</td>\n",
       "      <td>0.0</td>\n",
       "      <td>0.0</td>\n",
       "      <td>190.3592</td>\n",
       "      <td>0.0</td>\n",
       "      <td>1.164807</td>\n",
       "      <td>...</td>\n",
       "      <td>0.0</td>\n",
       "      <td>0.0</td>\n",
       "      <td>0.0</td>\n",
       "      <td>0.0</td>\n",
       "      <td>76.76546</td>\n",
       "      <td>0.0</td>\n",
       "      <td>0.0</td>\n",
       "      <td>2.349682</td>\n",
       "      <td>0.0</td>\n",
       "      <td>0.0</td>\n",
       "    </tr>\n",
       "    <tr>\n",
       "      <th>1</th>\n",
       "      <td>1989-01-01</td>\n",
       "      <td>0.0</td>\n",
       "      <td>0.0</td>\n",
       "      <td>0.0</td>\n",
       "      <td>3.675</td>\n",
       "      <td>0.0</td>\n",
       "      <td>0.0</td>\n",
       "      <td>191.0076</td>\n",
       "      <td>0.0</td>\n",
       "      <td>1.148810</td>\n",
       "      <td>...</td>\n",
       "      <td>0.0</td>\n",
       "      <td>0.0</td>\n",
       "      <td>0.0</td>\n",
       "      <td>0.0</td>\n",
       "      <td>77.67523</td>\n",
       "      <td>0.0</td>\n",
       "      <td>0.0</td>\n",
       "      <td>2.385500</td>\n",
       "      <td>0.0</td>\n",
       "      <td>0.0</td>\n",
       "    </tr>\n",
       "    <tr>\n",
       "      <th>2</th>\n",
       "      <td>1989-02-01</td>\n",
       "      <td>0.0</td>\n",
       "      <td>0.0</td>\n",
       "      <td>0.0</td>\n",
       "      <td>3.675</td>\n",
       "      <td>0.0</td>\n",
       "      <td>0.0</td>\n",
       "      <td>191.9781</td>\n",
       "      <td>0.0</td>\n",
       "      <td>1.169614</td>\n",
       "      <td>...</td>\n",
       "      <td>0.0</td>\n",
       "      <td>0.0</td>\n",
       "      <td>0.0</td>\n",
       "      <td>0.0</td>\n",
       "      <td>77.53630</td>\n",
       "      <td>0.0</td>\n",
       "      <td>0.0</td>\n",
       "      <td>2.458750</td>\n",
       "      <td>0.0</td>\n",
       "      <td>0.0</td>\n",
       "    </tr>\n",
       "    <tr>\n",
       "      <th>3</th>\n",
       "      <td>1989-03-01</td>\n",
       "      <td>0.0</td>\n",
       "      <td>0.0</td>\n",
       "      <td>0.0</td>\n",
       "      <td>3.675</td>\n",
       "      <td>0.0</td>\n",
       "      <td>0.0</td>\n",
       "      <td>193.4470</td>\n",
       "      <td>0.0</td>\n",
       "      <td>1.223637</td>\n",
       "      <td>...</td>\n",
       "      <td>0.0</td>\n",
       "      <td>0.0</td>\n",
       "      <td>0.0</td>\n",
       "      <td>0.0</td>\n",
       "      <td>78.12339</td>\n",
       "      <td>0.0</td>\n",
       "      <td>0.0</td>\n",
       "      <td>2.539391</td>\n",
       "      <td>0.0</td>\n",
       "      <td>0.0</td>\n",
       "    </tr>\n",
       "    <tr>\n",
       "      <th>4</th>\n",
       "      <td>1989-04-01</td>\n",
       "      <td>0.0</td>\n",
       "      <td>0.0</td>\n",
       "      <td>0.0</td>\n",
       "      <td>3.675</td>\n",
       "      <td>0.0</td>\n",
       "      <td>0.0</td>\n",
       "      <td>195.0895</td>\n",
       "      <td>0.0</td>\n",
       "      <td>1.243114</td>\n",
       "      <td>...</td>\n",
       "      <td>0.0</td>\n",
       "      <td>0.0</td>\n",
       "      <td>0.0</td>\n",
       "      <td>0.0</td>\n",
       "      <td>78.43185</td>\n",
       "      <td>0.0</td>\n",
       "      <td>0.0</td>\n",
       "      <td>2.548200</td>\n",
       "      <td>0.0</td>\n",
       "      <td>0.0</td>\n",
       "    </tr>\n",
       "  </tbody>\n",
       "</table>\n",
       "<p>5 rows × 201 columns</p>\n",
       "</div>"
      ],
      "text/plain": [
       "         year  Afghanistan  Angola  Albania  United Arab Emirates  Argenti0  \\\n",
       "0  1988-12-01          0.0     0.0      0.0                 3.675       0.0   \n",
       "1  1989-01-01          0.0     0.0      0.0                 3.675       0.0   \n",
       "2  1989-02-01          0.0     0.0      0.0                 3.675       0.0   \n",
       "3  1989-03-01          0.0     0.0      0.0                 3.675       0.0   \n",
       "4  1989-04-01          0.0     0.0      0.0                 3.675       0.0   \n",
       "\n",
       "   Armenia  Developing Asia  Antigua and Barbuda  Australia  ...  \\\n",
       "0      0.0         190.3592                  0.0   1.164807  ...   \n",
       "1      0.0         191.0076                  0.0   1.148810  ...   \n",
       "2      0.0         191.9781                  0.0   1.169614  ...   \n",
       "3      0.0         193.4470                  0.0   1.223637  ...   \n",
       "4      0.0         195.0895                  0.0   1.243114  ...   \n",
       "\n",
       "   St. Vincent and the Gre0dines  Venezuela, RB  Viet0m  Vanuatu  \\\n",
       "0                            0.0            0.0     0.0      0.0   \n",
       "1                            0.0            0.0     0.0      0.0   \n",
       "2                            0.0            0.0     0.0      0.0   \n",
       "3                            0.0            0.0     0.0      0.0   \n",
       "4                            0.0            0.0     0.0      0.0   \n",
       "\n",
       "   World (WBG members)  Samoa  Yemen, Rep.  South Africa  Zambia  Zimbabwe  \n",
       "0             76.76546    0.0          0.0      2.349682     0.0       0.0  \n",
       "1             77.67523    0.0          0.0      2.385500     0.0       0.0  \n",
       "2             77.53630    0.0          0.0      2.458750     0.0       0.0  \n",
       "3             78.12339    0.0          0.0      2.539391     0.0       0.0  \n",
       "4             78.43185    0.0          0.0      2.548200     0.0       0.0  \n",
       "\n",
       "[5 rows x 201 columns]"
      ]
     },
     "execution_count": 40,
     "metadata": {},
     "output_type": "execute_result"
    }
   ],
   "source": [
    "exchange_rate_monthly.head()"
   ]
  },
  {
   "cell_type": "code",
   "execution_count": 49,
   "id": "f4f64c83",
   "metadata": {},
   "outputs": [
    {
     "data": {
      "text/plain": [
       "0           0\n",
       "1      1991Q1\n",
       "2      1991Q2\n",
       "3      1991Q3\n",
       "4      1991Q4\n",
       "        ...  \n",
       "107    2017Q3\n",
       "108    2017Q4\n",
       "109    2018Q1\n",
       "110    2018Q2\n",
       "111    2018Q3\n",
       "Name: year, Length: 112, dtype: object"
      ]
     },
     "execution_count": 49,
     "metadata": {},
     "output_type": "execute_result"
    }
   ],
   "source": [
    "exports_quarterly.year"
   ]
  },
  {
   "cell_type": "markdown",
   "id": "163af4a7",
   "metadata": {},
   "source": [
    "### Saving all the updated sheets"
   ]
  },
  {
   "cell_type": "code",
   "execution_count": 79,
   "id": "5e741191",
   "metadata": {},
   "outputs": [],
   "source": [
    "cpi_annual.to_excel('cpi_data.xlsx', sheet_name = 'annual')"
   ]
  },
  {
   "cell_type": "code",
   "execution_count": 80,
   "id": "9a1b3740",
   "metadata": {},
   "outputs": [],
   "source": [
    "exchange_rate_annual.to_excel('exchange_rate_monthly1.xlsx', sheet_name = 'annual')"
   ]
  },
  {
   "cell_type": "code",
   "execution_count": 82,
   "id": "7ae62794",
   "metadata": {},
   "outputs": [],
   "source": [
    "cpi_monthly.to_excel('cpi_data1.xlsx', sheet_name = 'monthly')"
   ]
  },
  {
   "cell_type": "code",
   "execution_count": 84,
   "id": "4051dce9",
   "metadata": {},
   "outputs": [],
   "source": [
    "exchange_rate_monthly.to_excel('exchange_rate_monthly2.xlsx', sheet_name = 'monthly')"
   ]
  },
  {
   "cell_type": "code",
   "execution_count": 85,
   "id": "cd3e3869",
   "metadata": {},
   "outputs": [],
   "source": [
    "exports_monthly.to_excel('exports_monthly1.xlsx', sheet_name = 'monthly')"
   ]
  },
  {
   "cell_type": "code",
   "execution_count": 86,
   "id": "9814ad9c",
   "metadata": {},
   "outputs": [],
   "source": [
    "exports_annual.to_excel('exports_annual.xlsx', sheet_name = 'annual')"
   ]
  },
  {
   "cell_type": "code",
   "execution_count": 88,
   "id": "60df3a14",
   "metadata": {},
   "outputs": [],
   "source": [
    "exports_quarterly.to_excel('exports_quarterly.xlsx', sheet_name = 'quarterly')"
   ]
  }
 ],
 "metadata": {
  "kernelspec": {
   "display_name": "Python 3 (ipykernel)",
   "language": "python",
   "name": "python3"
  },
  "language_info": {
   "codemirror_mode": {
    "name": "ipython",
    "version": 3
   },
   "file_extension": ".py",
   "mimetype": "text/x-python",
   "name": "python",
   "nbconvert_exporter": "python",
   "pygments_lexer": "ipython3",
   "version": "3.10.5"
  }
 },
 "nbformat": 4,
 "nbformat_minor": 5
}
